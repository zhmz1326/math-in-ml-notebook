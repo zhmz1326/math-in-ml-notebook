{
 "cells": [
  {
   "cell_type": "markdown",
   "metadata": {},
   "source": [
    "### 示例代码5-2-1"
   ]
  },
  {
   "cell_type": "code",
   "execution_count": 1,
   "metadata": {},
   "outputs": [
    {
     "data": {
      "text/plain": [
       "<Figure size 640x480 with 1 Axes>"
      ]
     },
     "metadata": {},
     "output_type": "display_data"
    }
   ],
   "source": [
    "import numpy as np\n",
    "import matplotlib.pyplot as plt\n",
    "\n",
    "# 读入学习数据\n",
    "train = np.loadtxt('click.csv', delimiter=',', skiprows=1)\n",
    "train_x = train[:,0]\n",
    "train_y = train[:,1]\n",
    "\n",
    "# 绘图\n",
    "\n",
    "plt.plot(train_x, train_y, 'o')\n",
    "plt.show()"
   ]
  },
  {
   "cell_type": "markdown",
   "metadata": {},
   "source": [
    "### 示例代码5-2-2"
   ]
  },
  {
   "cell_type": "code",
   "execution_count": 2,
   "metadata": {},
   "outputs": [],
   "source": [
    "# 参数初始化\n",
    "theta0 = np.random.rand()\n",
    "theta1 = np.random.rand()\n",
    "\n",
    "# 预测函数\n",
    "def f(x):\n",
    "    return theta0 + theta1 * x\n",
    "\n",
    "# 目标函数\n",
    "def E(x, y):\n",
    "    return 0.5 * np.sum((y - f(x)) ** 2)"
   ]
  },
  {
   "cell_type": "markdown",
   "metadata": {},
   "source": [
    "### 示例代码5-2-3"
   ]
  },
  {
   "cell_type": "code",
   "execution_count": 3,
   "metadata": {},
   "outputs": [],
   "source": [
    "# 标准化\n",
    "mu = train_x.mean()\n",
    "sigma = train_x.std()\n",
    "def standardize(x):\n",
    "    return (x - mu) / sigma\n",
    "\n",
    "train_z = standardize(train_x)"
   ]
  },
  {
   "cell_type": "markdown",
   "metadata": {},
   "source": [
    "### 示例代码5-2-4"
   ]
  },
  {
   "cell_type": "code",
   "execution_count": 4,
   "metadata": {},
   "outputs": [
    {
     "data": {
      "image/png": "[encoded data removed]",
      "text/plain": [
       "<Figure size 432x288 with 1 Axes>"
      ]
     },
     "metadata": {
      "needs_background": "light"
     },
     "output_type": "display_data"
    }
   ],
   "source": [
    "plt.plot(train_z, train_y, 'o')\n",
    "\n",
    "plt.show()"
   ]
  },
  {
   "cell_type": "markdown",
   "metadata": {},
   "source": [
    "### 示例代码5-2-5"
   ]
  },
  {
   "cell_type": "code",
   "execution_count": 5,
   "metadata": {},
   "outputs": [
    {
     "name": "stdout",
     "output_type": "stream",
     "text": [
      "第1次: theta0 = 9.026, theta1 = 1.899, 差值 = 76235.6995\n",
      "第2次: theta0 = 17.429, theta1 = 3.731, 差值 = 73216.7658\n",
      "第3次: theta0 = 25.663, theta1 = 5.526, 差值 = 70317.3819\n",
      "第4次: theta0 = 33.733, theta1 = 7.285, 差值 = 67532.8136\n",
      "第5次: theta0 = 41.641, theta1 = 9.009, 差值 = 64858.5141\n",
      "第6次: theta0 = 49.391, theta1 = 10.698, 差值 = 62290.1170\n",
      "第7次: theta0 = 56.987, theta1 = 12.354, 差值 = 59823.4283\n",
      "第8次: theta0 = 64.430, theta1 = 13.976, 差值 = 57454.4206\n",
      "第9次: theta0 = 71.724, theta1 = 15.566, 差值 = 55179.2255\n",
      "第10次: theta0 = 78.873, theta1 = 17.125, 差值 = 52994.1282\n",
      "第11次: theta0 = 85.878, theta1 = 18.652, 差值 = 50895.5607\n",
      "第12次: theta0 = 92.744, theta1 = 20.148, 差值 = 48880.0965\n",
      "第13次: theta0 = 99.472, theta1 = 21.615, 差值 = 46944.4447\n",
      "第14次: theta0 = 106.065, theta1 = 23.052, 差值 = 45085.4447\n",
      "第15次: theta0 = 112.527, theta1 = 24.461, 差值 = 43300.0611\n",
      "第16次: theta0 = 118.860, theta1 = 25.841, 差值 = 41585.3787\n",
      "第17次: theta0 = 125.065, theta1 = 27.194, 差值 = 39938.5977\n",
      "第18次: theta0 = 131.147, theta1 = 28.519, 差值 = 38357.0292\n",
      "第19次: theta0 = 137.107, theta1 = 29.819, 差值 = 36838.0908\n",
      "第20次: theta0 = 142.948, theta1 = 31.092, 差值 = 35379.3024\n",
      "第21次: theta0 = 148.672, theta1 = 32.340, 差值 = 33978.2821\n",
      "第22次: theta0 = 154.282, theta1 = 33.562, 差值 = 32632.7421\n",
      "第23次: theta0 = 159.779, theta1 = 34.761, 差值 = 31340.4855\n",
      "第24次: theta0 = 165.166, theta1 = 35.935, 差值 = 30099.4023\n",
      "第25次: theta0 = 170.446, theta1 = 37.086, 差值 = 28907.4660\n",
      "第26次: theta0 = 175.620, theta1 = 38.214, 差值 = 27762.7303\n",
      "第27次: theta0 = 180.691, theta1 = 39.319, 差值 = 26663.3262\n",
      "第28次: theta0 = 185.660, theta1 = 40.402, 差值 = 25607.4585\n",
      "第29次: theta0 = 190.530, theta1 = 41.464, 差值 = 24593.4031\n",
      "第30次: theta0 = 195.302, theta1 = 42.504, 差值 = 23619.5043\n",
      "第31次: theta0 = 199.979, theta1 = 43.524, 差值 = 22684.1720\n",
      "第32次: theta0 = 204.562, theta1 = 44.523, 差值 = 21785.8788\n",
      "第33次: theta0 = 209.054, theta1 = 45.502, 差值 = 20923.1580\n",
      "第34次: theta0 = 213.456, theta1 = 46.461, 差值 = 20094.6009\n",
      "第35次: theta0 = 217.770, theta1 = 47.402, 差值 = 19298.8547\n",
      "第36次: theta0 = 221.998, theta1 = 48.323, 差值 = 18534.6201\n",
      "第37次: theta0 = 226.141, theta1 = 49.226, 差值 = 17800.6491\n",
      "第38次: theta0 = 230.201, theta1 = 50.111, 差值 = 17095.7434\n",
      "第39次: theta0 = 234.180, theta1 = 50.979, 差值 = 16418.7520\n",
      "第40次: theta0 = 238.079, theta1 = 51.829, 差值 = 15768.5694\n",
      "第41次: theta0 = 241.901, theta1 = 52.662, 差值 = 15144.1340\n",
      "第42次: theta0 = 245.646, theta1 = 53.478, 差值 = 14544.4263\n",
      "第43次: theta0 = 249.316, theta1 = 54.278, 差值 = 13968.4671\n",
      "第44次: theta0 = 252.912, theta1 = 55.062, 差值 = 13415.3158\n",
      "第45次: theta0 = 256.437, theta1 = 55.830, 差值 = 12884.0693\n",
      "第46次: theta0 = 259.891, theta1 = 56.583, 差值 = 12373.8601\n",
      "第47次: theta0 = 263.277, theta1 = 57.321, 差值 = 11883.8552\n",
      "第48次: theta0 = 266.594, theta1 = 58.045, 差值 = 11413.2546\n",
      "第49次: theta0 = 269.845, theta1 = 58.753, 差值 = 10961.2897\n",
      "第50次: theta0 = 273.031, theta1 = 59.448, 差值 = 10527.2226\n",
      "第51次: theta0 = 276.154, theta1 = 60.128, 差值 = 10110.3446\n",
      "第52次: theta0 = 279.214, theta1 = 60.795, 差值 = 9709.9750\n",
      "第53次: theta0 = 282.212, theta1 = 61.449, 差值 = 9325.4600\n",
      "第54次: theta0 = 285.151, theta1 = 62.090, 差值 = 8956.1717\n",
      "第55次: theta0 = 288.031, theta1 = 62.717, 差值 = 8601.5073\n",
      "第56次: theta0 = 290.853, theta1 = 63.333, 差值 = 8260.8877\n",
      "第57次: theta0 = 293.619, theta1 = 63.936, 差值 = 7933.7565\n",
      "第58次: theta0 = 296.330, theta1 = 64.526, 差值 = 7619.5797\n",
      "第59次: theta0 = 298.986, theta1 = 65.105, 差值 = 7317.8444\n",
      "第60次: theta0 = 301.590, theta1 = 65.673, 差值 = 7028.0577\n",
      "第61次: theta0 = 304.141, theta1 = 66.229, 差值 = 6749.7467\n",
      "第62次: theta0 = 306.641, theta1 = 66.774, 差值 = 6482.4567\n",
      "第63次: theta0 = 309.091, theta1 = 67.308, 差值 = 6225.7514\n",
      "第64次: theta0 = 311.492, theta1 = 67.832, 差值 = 5979.2117\n",
      "第65次: theta0 = 313.846, theta1 = 68.344, 差值 = 5742.4349\n",
      "第66次: theta0 = 316.152, theta1 = 68.847, 差值 = 5515.0344\n",
      "第67次: theta0 = 318.412, theta1 = 69.340, 差值 = 5296.6391\n",
      "第68次: theta0 = 320.626, theta1 = 69.823, 差值 = 5086.8922\n",
      "第69次: theta0 = 322.797, theta1 = 70.296, 差值 = 4885.4512\n",
      "第70次: theta0 = 324.924, theta1 = 70.759, 差值 = 4691.9874\n",
      "第71次: theta0 = 327.008, theta1 = 71.214, 差值 = 4506.1847\n",
      "第72次: theta0 = 329.051, theta1 = 71.659, 差值 = 4327.7398\n",
      "第73次: theta0 = 331.053, theta1 = 72.095, 差值 = 4156.3613\n",
      "第74次: theta0 = 333.015, theta1 = 72.523, 差值 = 3991.7694\n",
      "第75次: theta0 = 334.938, theta1 = 72.942, 差值 = 3833.6953\n",
      "第76次: theta0 = 336.822, theta1 = 73.353, 差值 = 3681.8810\n",
      "第77次: theta0 = 338.669, theta1 = 73.755, 差值 = 3536.0785\n",
      "第78次: theta0 = 340.478, theta1 = 74.150, 差值 = 3396.0498\n",
      "第79次: theta0 = 342.252, theta1 = 74.537, 差值 = 3261.5662\n",
      "第80次: theta0 = 343.990, theta1 = 74.915, 差值 = 3132.4082\n",
      "第81次: theta0 = 345.693, theta1 = 75.287, 差值 = 3008.3648\n",
      "第82次: theta0 = 347.362, theta1 = 75.650, 差值 = 2889.2336\n",
      "第83次: theta0 = 348.998, theta1 = 76.007, 差值 = 2774.8199\n",
      "第84次: theta0 = 350.601, theta1 = 76.356, 差值 = 2664.9370\n",
      "第85次: theta0 = 352.172, theta1 = 76.699, 差值 = 2559.4055\n",
      "第86次: theta0 = 353.711, theta1 = 77.035, 差值 = 2458.0531\n",
      "第87次: theta0 = 355.220, theta1 = 77.363, 差值 = 2360.7142\n",
      "第88次: theta0 = 356.699, theta1 = 77.686, 差值 = 2267.2299\n",
      "第89次: theta0 = 358.148, theta1 = 78.002, 差值 = 2177.4476\n",
      "第90次: theta0 = 359.568, theta1 = 78.311, 差值 = 2091.2207\n",
      "第91次: theta0 = 360.959, theta1 = 78.614, 差值 = 2008.4083\n",
      "第92次: theta0 = 362.323, theta1 = 78.912, 差值 = 1928.8754\n",
      "第93次: theta0 = 363.660, theta1 = 79.203, 差值 = 1852.4919\n",
      "第94次: theta0 = 364.970, theta1 = 79.489, 差值 = 1779.1332\n",
      "第95次: theta0 = 366.253, theta1 = 79.768, 差值 = 1708.6795\n",
      "第96次: theta0 = 367.511, theta1 = 80.043, 差值 = 1641.0158\n",
      "第97次: theta0 = 368.744, theta1 = 80.311, 差值 = 1576.0316\n",
      "第98次: theta0 = 369.952, theta1 = 80.575, 差值 = 1513.6208\n",
      "第99次: theta0 = 371.136, theta1 = 80.833, 差值 = 1453.6814\n",
      "第100次: theta0 = 372.296, theta1 = 81.086, 差值 = 1396.1156\n",
      "第101次: theta0 = 373.433, theta1 = 81.334, 差值 = 1340.8294\n",
      "第102次: theta0 = 374.548, theta1 = 81.576, 差值 = 1287.7326\n",
      "第103次: theta0 = 375.640, theta1 = 81.814, 差值 = 1236.7384\n",
      "第104次: theta0 = 376.710, theta1 = 82.048, 差值 = 1187.7635\n",
      "第105次: theta0 = 377.759, theta1 = 82.276, 差值 = 1140.7281\n",
      "第106次: theta0 = 378.787, theta1 = 82.500, 差值 = 1095.5553\n",
      "第107次: theta0 = 379.794, theta1 = 82.720, 差值 = 1052.1713\n",
      "第108次: theta0 = 380.781, theta1 = 82.935, 差值 = 1010.5053\n",
      "第109次: theta0 = 381.748, theta1 = 83.146, 差值 = 970.4893\n",
      "第110次: theta0 = 382.696, theta1 = 83.353, 差值 = 932.0579\n",
      "第111次: theta0 = 383.625, theta1 = 83.555, 差值 = 895.1484\n",
      "第112次: theta0 = 384.536, theta1 = 83.754, 差值 = 859.7005\n",
      "第113次: theta0 = 385.428, theta1 = 83.948, 差值 = 825.6564\n",
      "第114次: theta0 = 386.303, theta1 = 84.139, 差值 = 792.9604\n",
      "第115次: theta0 = 387.160, theta1 = 84.326, 差值 = 761.5592\n",
      "第116次: theta0 = 387.999, theta1 = 84.509, 差值 = 731.4014\n",
      "第117次: theta0 = 388.822, theta1 = 84.688, 差值 = 702.4379\n",
      "第118次: theta0 = 389.629, theta1 = 84.864, 差值 = 674.6214\n",
      "第119次: theta0 = 390.419, theta1 = 85.036, 差值 = 647.9064\n",
      "第120次: theta0 = 391.194, theta1 = 85.205, 差值 = 622.2493\n",
      "第121次: theta0 = 391.953, theta1 = 85.371, 差值 = 597.6082\n",
      "第122次: theta0 = 392.697, theta1 = 85.533, 差值 = 573.9429\n",
      "第123次: theta0 = 393.426, theta1 = 85.692, 差值 = 551.2148\n",
      "第124次: theta0 = 394.141, theta1 = 85.847, 差值 = 529.3867\n",
      "第125次: theta0 = 394.841, theta1 = 86.000, 差值 = 508.4230\n",
      "第126次: theta0 = 395.527, theta1 = 86.150, 差值 = 488.2894\n",
      "第127次: theta0 = 396.199, theta1 = 86.296, 差值 = 468.9532\n",
      "第128次: theta0 = 396.858, theta1 = 86.440, 差值 = 450.3826\n",
      "第129次: theta0 = 397.504, theta1 = 86.581, 差值 = 432.5475\n",
      "第130次: theta0 = 398.137, theta1 = 86.719, 差值 = 415.4186\n",
      "第131次: theta0 = 398.757, theta1 = 86.854, 差值 = 398.9680\n",
      "第132次: theta0 = 399.365, theta1 = 86.986, 差值 = 383.1689\n",
      "第133次: theta0 = 399.961, theta1 = 87.116, 差值 = 367.9954\n",
      "第134次: theta0 = 400.545, theta1 = 87.243, 差值 = 353.4228\n",
      "第135次: theta0 = 401.117, theta1 = 87.368, 差值 = 339.4272\n",
      "第136次: theta0 = 401.678, theta1 = 87.490, 差值 = 325.9859\n",
      "第137次: theta0 = 402.227, theta1 = 87.610, 差值 = 313.0769\n",
      "第138次: theta0 = 402.765, theta1 = 87.727, 差值 = 300.6790\n",
      "第139次: theta0 = 403.293, theta1 = 87.842, 差值 = 288.7721\n",
      "第140次: theta0 = 403.810, theta1 = 87.955, 差值 = 277.3368\n",
      "第141次: theta0 = 404.317, theta1 = 88.066, 差值 = 266.3542\n",
      "第142次: theta0 = 404.814, theta1 = 88.174, 差值 = 255.8066\n",
      "第143次: theta0 = 405.300, theta1 = 88.280, 差值 = 245.6767\n",
      "第144次: theta0 = 405.777, theta1 = 88.384, 差值 = 235.9479\n",
      "第145次: theta0 = 406.245, theta1 = 88.486, 差值 = 226.6043\n",
      "第146次: theta0 = 406.703, theta1 = 88.586, 差值 = 217.6308\n",
      "第147次: theta0 = 407.152, theta1 = 88.684, 差值 = 209.0126\n",
      "第148次: theta0 = 407.592, theta1 = 88.779, 差值 = 200.7357\n",
      "第149次: theta0 = 408.023, theta1 = 88.873, 差值 = 192.7866\n",
      "第150次: theta0 = 408.446, theta1 = 88.966, 差值 = 185.1522\n",
      "第151次: theta0 = 408.860, theta1 = 89.056, 差值 = 177.8202\n",
      "第152次: theta0 = 409.265, theta1 = 89.144, 差值 = 170.7785\n",
      "第153次: theta0 = 409.663, theta1 = 89.231, 差值 = 164.0157\n",
      "第154次: theta0 = 410.053, theta1 = 89.316, 差值 = 157.5207\n",
      "第155次: theta0 = 410.435, theta1 = 89.399, 差值 = 151.2829\n",
      "第156次: theta0 = 410.809, theta1 = 89.481, 差值 = 145.2921\n",
      "第157次: theta0 = 411.176, theta1 = 89.561, 差值 = 139.5385\n",
      "第158次: theta0 = 411.535, theta1 = 89.639, 差值 = 134.0128\n",
      "第159次: theta0 = 411.888, theta1 = 89.716, 差值 = 128.7059\n",
      "第160次: theta0 = 412.233, theta1 = 89.791, 差值 = 123.6091\n",
      "第161次: theta0 = 412.571, theta1 = 89.865, 差值 = 118.7142\n",
      "第162次: theta0 = 412.903, theta1 = 89.937, 差值 = 114.0131\n",
      "第163次: theta0 = 413.228, theta1 = 90.008, 差值 = 109.4982\n",
      "第164次: theta0 = 413.546, theta1 = 90.077, 差值 = 105.1621\n",
      "第165次: theta0 = 413.858, theta1 = 90.145, 差值 = 100.9976\n",
      "第166次: theta0 = 414.164, theta1 = 90.212, 差值 = 96.9981\n",
      "第167次: theta0 = 414.464, theta1 = 90.277, 差值 = 93.1570\n",
      "第168次: theta0 = 414.758, theta1 = 90.341, 差值 = 89.4680\n",
      "第169次: theta0 = 415.045, theta1 = 90.404, 差值 = 85.9251\n",
      "第170次: theta0 = 415.328, theta1 = 90.466, 差值 = 82.5224\n",
      "第171次: theta0 = 415.604, theta1 = 90.526, 差值 = 79.2545\n",
      "第172次: theta0 = 415.875, theta1 = 90.585, 差值 = 76.1161\n",
      "第173次: theta0 = 416.140, theta1 = 90.643, 差值 = 73.1019\n",
      "第174次: theta0 = 416.401, theta1 = 90.700, 差值 = 70.2070\n",
      "第175次: theta0 = 416.656, theta1 = 90.755, 差值 = 67.4268\n",
      "第176次: theta0 = 416.906, theta1 = 90.810, 差值 = 64.7567\n",
      "第177次: theta0 = 417.150, theta1 = 90.863, 差值 = 62.1924\n",
      "第178次: theta0 = 417.390, theta1 = 90.915, 差值 = 59.7295\n",
      "第179次: theta0 = 417.626, theta1 = 90.967, 差值 = 57.3643\n",
      "第180次: theta0 = 417.856, theta1 = 91.017, 差值 = 55.0926\n",
      "第181次: theta0 = 418.082, theta1 = 91.066, 差值 = 52.9110\n",
      "第182次: theta0 = 418.303, theta1 = 91.114, 差值 = 50.8157\n",
      "第183次: theta0 = 418.520, theta1 = 91.162, 差值 = 48.8034\n",
      "第184次: theta0 = 418.733, theta1 = 91.208, 差值 = 46.8708\n",
      "第185次: theta0 = 418.941, theta1 = 91.253, 差值 = 45.0147\n",
      "第186次: theta0 = 419.145, theta1 = 91.298, 差值 = 43.2321\n",
      "第187次: theta0 = 419.345, theta1 = 91.342, 差值 = 41.5201\n",
      "第188次: theta0 = 419.542, theta1 = 91.384, 差值 = 39.8759\n",
      "第189次: theta0 = 419.734, theta1 = 91.426, 差值 = 38.2968\n",
      "第190次: theta0 = 419.922, theta1 = 91.467, 差值 = 36.7803\n",
      "第191次: theta0 = 420.107, theta1 = 91.507, 差值 = 35.3238\n",
      "第192次: theta0 = 420.287, theta1 = 91.547, 差值 = 33.9250\n",
      "第193次: theta0 = 420.465, theta1 = 91.586, 差值 = 32.5815\n",
      "第194次: theta0 = 420.638, theta1 = 91.623, 差值 = 31.2913\n",
      "第195次: theta0 = 420.809, theta1 = 91.661, 差值 = 30.0522\n",
      "第196次: theta0 = 420.975, theta1 = 91.697, 差值 = 28.8621\n",
      "第197次: theta0 = 421.139, theta1 = 91.733, 差值 = 27.7192\n",
      "第198次: theta0 = 421.299, theta1 = 91.767, 差值 = 26.6215\n",
      "第199次: theta0 = 421.456, theta1 = 91.802, 差值 = 25.5673\n",
      "第200次: theta0 = 421.610, theta1 = 91.835, 差值 = 24.5548\n",
      "第201次: theta0 = 421.761, theta1 = 91.868, 差值 = 23.5824\n",
      "第202次: theta0 = 421.909, theta1 = 91.900, 差值 = 22.6486\n",
      "第203次: theta0 = 422.053, theta1 = 91.932, 差值 = 21.7517\n",
      "第204次: theta0 = 422.195, theta1 = 91.963, 差值 = 20.8903\n",
      "第205次: theta0 = 422.335, theta1 = 91.993, 差值 = 20.0631\n",
      "第206次: theta0 = 422.471, theta1 = 92.023, 差值 = 19.2686\n",
      "第207次: theta0 = 422.604, theta1 = 92.052, 差值 = 18.5055\n",
      "第208次: theta0 = 422.735, theta1 = 92.080, 差值 = 17.7727\n",
      "第209次: theta0 = 422.864, theta1 = 92.108, 差值 = 17.0689\n",
      "第210次: theta0 = 422.989, theta1 = 92.136, 差值 = 16.3930\n",
      "第211次: theta0 = 423.113, theta1 = 92.163, 差值 = 15.7438\n",
      "第212次: theta0 = 423.233, theta1 = 92.189, 差值 = 15.1204\n",
      "第213次: theta0 = 423.352, theta1 = 92.215, 差值 = 14.5216\n",
      "第214次: theta0 = 423.468, theta1 = 92.240, 差值 = 13.9465\n",
      "第215次: theta0 = 423.581, theta1 = 92.265, 差值 = 13.3943\n",
      "第216次: theta0 = 423.693, theta1 = 92.289, 差值 = 12.8638\n",
      "第217次: theta0 = 423.802, theta1 = 92.313, 差值 = 12.3544\n",
      "第218次: theta0 = 423.909, theta1 = 92.336, 差值 = 11.8652\n",
      "第219次: theta0 = 424.014, theta1 = 92.359, 差值 = 11.3953\n",
      "第220次: theta0 = 424.116, theta1 = 92.382, 差值 = 10.9441\n",
      "第221次: theta0 = 424.217, theta1 = 92.403, 差值 = 10.5107\n",
      "第222次: theta0 = 424.316, theta1 = 92.425, 差值 = 10.0945\n",
      "第223次: theta0 = 424.412, theta1 = 92.446, 差值 = 9.6947\n",
      "第224次: theta0 = 424.507, theta1 = 92.467, 差值 = 9.3108\n",
      "第225次: theta0 = 424.600, theta1 = 92.487, 差值 = 8.9421\n",
      "第226次: theta0 = 424.691, theta1 = 92.507, 差值 = 8.5880\n",
      "第227次: theta0 = 424.780, theta1 = 92.526, 差值 = 8.2479\n",
      "第228次: theta0 = 424.868, theta1 = 92.545, 差值 = 7.9213\n",
      "第229次: theta0 = 424.953, theta1 = 92.564, 差值 = 7.6076\n",
      "第230次: theta0 = 425.037, theta1 = 92.582, 差值 = 7.3064\n",
      "第231次: theta0 = 425.119, theta1 = 92.600, 差值 = 7.0170\n",
      "第232次: theta0 = 425.200, theta1 = 92.618, 差值 = 6.7392\n",
      "第233次: theta0 = 425.279, theta1 = 92.635, 差值 = 6.4723\n",
      "第234次: theta0 = 425.356, theta1 = 92.652, 差值 = 6.2160\n",
      "第235次: theta0 = 425.432, theta1 = 92.668, 差值 = 5.9698\n",
      "第236次: theta0 = 425.507, theta1 = 92.685, 差值 = 5.7334\n",
      "第237次: theta0 = 425.579, theta1 = 92.700, 差值 = 5.5064\n",
      "第238次: theta0 = 425.651, theta1 = 92.716, 差值 = 5.2883\n",
      "第239次: theta0 = 425.721, theta1 = 92.731, 差值 = 5.0789\n",
      "第240次: theta0 = 425.789, theta1 = 92.746, 差值 = 4.8778\n",
      "第241次: theta0 = 425.857, theta1 = 92.761, 差值 = 4.6846\n",
      "第242次: theta0 = 425.923, theta1 = 92.775, 差值 = 4.4991\n",
      "第243次: theta0 = 425.987, theta1 = 92.789, 差值 = 4.3209\n",
      "第244次: theta0 = 426.050, theta1 = 92.803, 差值 = 4.1498\n",
      "第245次: theta0 = 426.112, theta1 = 92.817, 差值 = 3.9855\n",
      "第246次: theta0 = 426.173, theta1 = 92.830, 差值 = 3.8277\n",
      "第247次: theta0 = 426.233, theta1 = 92.843, 差值 = 3.6761\n",
      "第248次: theta0 = 426.291, theta1 = 92.856, 差值 = 3.5305\n",
      "第249次: theta0 = 426.348, theta1 = 92.868, 差值 = 3.3907\n",
      "第250次: theta0 = 426.404, theta1 = 92.880, 差值 = 3.2564\n",
      "第251次: theta0 = 426.459, theta1 = 92.892, 差值 = 3.1275\n",
      "第252次: theta0 = 426.513, theta1 = 92.904, 差值 = 3.0036\n",
      "第253次: theta0 = 426.566, theta1 = 92.915, 差值 = 2.8847\n",
      "第254次: theta0 = 426.617, theta1 = 92.927, 差值 = 2.7705\n",
      "第255次: theta0 = 426.668, theta1 = 92.938, 差值 = 2.6608\n",
      "第256次: theta0 = 426.718, theta1 = 92.949, 差值 = 2.5554\n",
      "第257次: theta0 = 426.766, theta1 = 92.959, 差值 = 2.4542\n",
      "第258次: theta0 = 426.814, theta1 = 92.970, 差值 = 2.3570\n",
      "第259次: theta0 = 426.861, theta1 = 92.980, 差值 = 2.2637\n",
      "第260次: theta0 = 426.906, theta1 = 92.990, 差值 = 2.1740\n",
      "第261次: theta0 = 426.951, theta1 = 93.000, 差值 = 2.0879\n",
      "第262次: theta0 = 426.995, theta1 = 93.009, 差值 = 2.0053\n",
      "第263次: theta0 = 427.038, theta1 = 93.018, 差值 = 1.9258\n",
      "第264次: theta0 = 427.081, theta1 = 93.028, 差值 = 1.8496\n",
      "第265次: theta0 = 427.122, theta1 = 93.037, 差值 = 1.7763\n",
      "第266次: theta0 = 427.163, theta1 = 93.046, 差值 = 1.7060\n",
      "第267次: theta0 = 427.202, theta1 = 93.054, 差值 = 1.6384\n",
      "第268次: theta0 = 427.241, theta1 = 93.063, 差值 = 1.5736\n",
      "第269次: theta0 = 427.279, theta1 = 93.071, 差值 = 1.5112\n",
      "第270次: theta0 = 427.317, theta1 = 93.079, 差值 = 1.4514\n",
      "第271次: theta0 = 427.354, theta1 = 93.087, 差值 = 1.3939\n",
      "第272次: theta0 = 427.389, theta1 = 93.095, 差值 = 1.3387\n",
      "第273次: theta0 = 427.425, theta1 = 93.103, 差值 = 1.2857\n",
      "第274次: theta0 = 427.459, theta1 = 93.110, 差值 = 1.2348\n",
      "第275次: theta0 = 427.493, theta1 = 93.118, 差值 = 1.1859\n",
      "第276次: theta0 = 427.526, theta1 = 93.125, 差值 = 1.1389\n",
      "第277次: theta0 = 427.559, theta1 = 93.132, 差值 = 1.0938\n",
      "第278次: theta0 = 427.590, theta1 = 93.139, 差值 = 1.0505\n",
      "第279次: theta0 = 427.622, theta1 = 93.146, 差值 = 1.0089\n",
      "第280次: theta0 = 427.652, theta1 = 93.152, 差值 = 0.9690\n",
      "第281次: theta0 = 427.682, theta1 = 93.159, 差值 = 0.9306\n",
      "第282次: theta0 = 427.712, theta1 = 93.165, 差值 = 0.8937\n",
      "第283次: theta0 = 427.740, theta1 = 93.171, 差值 = 0.8584\n",
      "第284次: theta0 = 427.768, theta1 = 93.178, 差值 = 0.8244\n",
      "第285次: theta0 = 427.796, theta1 = 93.184, 差值 = 0.7917\n",
      "第286次: theta0 = 427.823, theta1 = 93.190, 差值 = 0.7604\n",
      "第287次: theta0 = 427.850, theta1 = 93.195, 差值 = 0.7303\n",
      "第288次: theta0 = 427.876, theta1 = 93.201, 差值 = 0.7013\n",
      "第289次: theta0 = 427.901, theta1 = 93.207, 差值 = 0.6736\n",
      "第290次: theta0 = 427.926, theta1 = 93.212, 差值 = 0.6469\n",
      "第291次: theta0 = 427.951, theta1 = 93.217, 差值 = 0.6213\n",
      "第292次: theta0 = 427.975, theta1 = 93.223, 差值 = 0.5967\n",
      "第293次: theta0 = 427.998, theta1 = 93.228, 差值 = 0.5730\n",
      "第294次: theta0 = 428.021, theta1 = 93.233, 差值 = 0.5503\n",
      "第295次: theta0 = 428.044, theta1 = 93.238, 差值 = 0.5286\n",
      "第296次: theta0 = 428.066, theta1 = 93.242, 差值 = 0.5076\n",
      "第297次: theta0 = 428.088, theta1 = 93.247, 差值 = 0.4875\n",
      "第298次: theta0 = 428.109, theta1 = 93.252, 差值 = 0.4682\n",
      "第299次: theta0 = 428.130, theta1 = 93.256, 差值 = 0.4497\n",
      "第300次: theta0 = 428.150, theta1 = 93.261, 差值 = 0.4319\n",
      "第301次: theta0 = 428.170, theta1 = 93.265, 差值 = 0.4148\n",
      "第302次: theta0 = 428.190, theta1 = 93.269, 差值 = 0.3983\n",
      "第303次: theta0 = 428.209, theta1 = 93.274, 差值 = 0.3826\n",
      "第304次: theta0 = 428.228, theta1 = 93.278, 差值 = 0.3674\n",
      "第305次: theta0 = 428.246, theta1 = 93.282, 差值 = 0.3529\n",
      "第306次: theta0 = 428.264, theta1 = 93.286, 差值 = 0.3389\n",
      "第307次: theta0 = 428.282, theta1 = 93.290, 差值 = 0.3255\n",
      "第308次: theta0 = 428.299, theta1 = 93.293, 差值 = 0.3126\n",
      "第309次: theta0 = 428.316, theta1 = 93.297, 差值 = 0.3002\n",
      "第310次: theta0 = 428.333, theta1 = 93.301, 差值 = 0.2883\n",
      "第311次: theta0 = 428.349, theta1 = 93.304, 差值 = 0.2769\n",
      "第312次: theta0 = 428.365, theta1 = 93.308, 差值 = 0.2659\n",
      "第313次: theta0 = 428.381, theta1 = 93.311, 差值 = 0.2554\n",
      "第314次: theta0 = 428.396, theta1 = 93.314, 差值 = 0.2453\n",
      "第315次: theta0 = 428.411, theta1 = 93.318, 差值 = 0.2356\n",
      "第316次: theta0 = 428.426, theta1 = 93.321, 差值 = 0.2262\n",
      "第317次: theta0 = 428.441, theta1 = 93.324, 差值 = 0.2173\n",
      "第318次: theta0 = 428.455, theta1 = 93.327, 差值 = 0.2087\n",
      "第319次: theta0 = 428.469, theta1 = 93.330, 差值 = 0.2004\n",
      "第320次: theta0 = 428.482, theta1 = 93.333, 差值 = 0.1925\n",
      "第321次: theta0 = 428.496, theta1 = 93.336, 差值 = 0.1849\n",
      "第322次: theta0 = 428.509, theta1 = 93.339, 差值 = 0.1775\n",
      "第323次: theta0 = 428.522, theta1 = 93.342, 差值 = 0.1705\n",
      "第324次: theta0 = 428.534, theta1 = 93.345, 差值 = 0.1638\n",
      "第325次: theta0 = 428.547, theta1 = 93.347, 差值 = 0.1573\n",
      "第326次: theta0 = 428.559, theta1 = 93.350, 差值 = 0.1510\n",
      "第327次: theta0 = 428.570, theta1 = 93.352, 差值 = 0.1451\n",
      "第328次: theta0 = 428.582, theta1 = 93.355, 差值 = 0.1393\n",
      "第329次: theta0 = 428.593, theta1 = 93.357, 差值 = 0.1338\n",
      "第330次: theta0 = 428.605, theta1 = 93.360, 差值 = 0.1285\n",
      "第331次: theta0 = 428.615, theta1 = 93.362, 差值 = 0.1234\n",
      "第332次: theta0 = 428.626, theta1 = 93.365, 差值 = 0.1185\n",
      "第333次: theta0 = 428.637, theta1 = 93.367, 差值 = 0.1138\n",
      "第334次: theta0 = 428.647, theta1 = 93.369, 差值 = 0.1093\n",
      "第335次: theta0 = 428.657, theta1 = 93.371, 差值 = 0.1050\n",
      "第336次: theta0 = 428.667, theta1 = 93.373, 差值 = 0.1008\n",
      "第337次: theta0 = 428.676, theta1 = 93.376, 差值 = 0.0968\n",
      "第338次: theta0 = 428.686, theta1 = 93.378, 差值 = 0.0930\n",
      "第339次: theta0 = 428.695, theta1 = 93.380, 差值 = 0.0893\n",
      "第340次: theta0 = 428.704, theta1 = 93.382, 差值 = 0.0858\n",
      "第341次: theta0 = 428.713, theta1 = 93.384, 差值 = 0.0824\n",
      "第342次: theta0 = 428.722, theta1 = 93.385, 差值 = 0.0791\n",
      "第343次: theta0 = 428.731, theta1 = 93.387, 差值 = 0.0760\n",
      "第344次: theta0 = 428.739, theta1 = 93.389, 差值 = 0.0730\n",
      "第345次: theta0 = 428.747, theta1 = 93.391, 差值 = 0.0701\n",
      "第346次: theta0 = 428.755, theta1 = 93.393, 差值 = 0.0673\n",
      "第347次: theta0 = 428.763, theta1 = 93.394, 差值 = 0.0647\n",
      "第348次: theta0 = 428.771, theta1 = 93.396, 差值 = 0.0621\n",
      "第349次: theta0 = 428.778, theta1 = 93.398, 差值 = 0.0596\n",
      "第350次: theta0 = 428.786, theta1 = 93.399, 差值 = 0.0573\n",
      "第351次: theta0 = 428.793, theta1 = 93.401, 差值 = 0.0550\n",
      "第352次: theta0 = 428.800, theta1 = 93.403, 差值 = 0.0528\n",
      "第353次: theta0 = 428.807, theta1 = 93.404, 差值 = 0.0507\n",
      "第354次: theta0 = 428.814, theta1 = 93.406, 差值 = 0.0487\n",
      "第355次: theta0 = 428.821, theta1 = 93.407, 差值 = 0.0468\n",
      "第356次: theta0 = 428.827, theta1 = 93.408, 差值 = 0.0449\n",
      "第357次: theta0 = 428.834, theta1 = 93.410, 差值 = 0.0432\n",
      "第358次: theta0 = 428.840, theta1 = 93.411, 差值 = 0.0415\n",
      "第359次: theta0 = 428.846, theta1 = 93.413, 差值 = 0.0398\n",
      "第360次: theta0 = 428.852, theta1 = 93.414, 差值 = 0.0382\n",
      "第361次: theta0 = 428.858, theta1 = 93.415, 差值 = 0.0367\n",
      "第362次: theta0 = 428.864, theta1 = 93.416, 差值 = 0.0353\n",
      "第363次: theta0 = 428.870, theta1 = 93.418, 差值 = 0.0339\n",
      "第364次: theta0 = 428.876, theta1 = 93.419, 差值 = 0.0325\n",
      "第365次: theta0 = 428.881, theta1 = 93.420, 差值 = 0.0312\n",
      "第366次: theta0 = 428.886, theta1 = 93.421, 差值 = 0.0300\n",
      "第367次: theta0 = 428.892, theta1 = 93.422, 差值 = 0.0288\n",
      "第368次: theta0 = 428.897, theta1 = 93.424, 差值 = 0.0277\n",
      "第369次: theta0 = 428.902, theta1 = 93.425, 差值 = 0.0266\n",
      "第370次: theta0 = 428.907, theta1 = 93.426, 差值 = 0.0255\n",
      "第371次: theta0 = 428.912, theta1 = 93.427, 差值 = 0.0245\n",
      "第372次: theta0 = 428.917, theta1 = 93.428, 差值 = 0.0235\n",
      "第373次: theta0 = 428.921, theta1 = 93.429, 差值 = 0.0226\n",
      "第374次: theta0 = 428.926, theta1 = 93.430, 差值 = 0.0217\n",
      "第375次: theta0 = 428.930, theta1 = 93.431, 差值 = 0.0209\n",
      "第376次: theta0 = 428.935, theta1 = 93.432, 差值 = 0.0200\n",
      "第377次: theta0 = 428.939, theta1 = 93.433, 差值 = 0.0192\n",
      "第378次: theta0 = 428.943, theta1 = 93.434, 差值 = 0.0185\n",
      "第379次: theta0 = 428.947, theta1 = 93.435, 差值 = 0.0177\n",
      "第380次: theta0 = 428.951, theta1 = 93.435, 差值 = 0.0170\n",
      "第381次: theta0 = 428.955, theta1 = 93.436, 差值 = 0.0164\n",
      "第382次: theta0 = 428.959, theta1 = 93.437, 差值 = 0.0157\n",
      "第383次: theta0 = 428.963, theta1 = 93.438, 差值 = 0.0151\n",
      "第384次: theta0 = 428.967, theta1 = 93.439, 差值 = 0.0145\n",
      "第385次: theta0 = 428.970, theta1 = 93.440, 差值 = 0.0139\n",
      "第386次: theta0 = 428.974, theta1 = 93.440, 差值 = 0.0134\n",
      "第387次: theta0 = 428.978, theta1 = 93.441, 差值 = 0.0128\n",
      "第388次: theta0 = 428.981, theta1 = 93.442, 差值 = 0.0123\n",
      "第389次: theta0 = 428.984, theta1 = 93.443, 差值 = 0.0118\n",
      "第390次: theta0 = 428.988, theta1 = 93.443, 差值 = 0.0114\n",
      "第391次: theta0 = 428.991, theta1 = 93.444, 差值 = 0.0109\n",
      "第392次: theta0 = 428.994, theta1 = 93.445, 差值 = 0.0105\n",
      "第393次: theta0 = 428.997, theta1 = 93.445, 差值 = 0.0101\n",
      "第394次: theta0 = 429.000, theta1 = 93.446, 差值 = 0.0097\n"
     ]
    }
   ],
   "source": [
    "# 学习率\n",
    "ETA = 1e-3\n",
    "\n",
    "# 误差的差值\n",
    "diff = 1\n",
    "\n",
    "# 更新次数\n",
    "count = 0\n",
    "\n",
    "# 直到误差的差值小于0.01为止，重复参数更新\n",
    "error = E(train_z, train_y)\n",
    "while diff > 1e-2:\n",
    "    # 更新结果保存到临时变量\n",
    "    tmp_theta0 = theta0 - ETA * np.sum((f(train_z) - train_y))\n",
    "    tmp_theta1 = theta1 - ETA * np.sum((f(train_z) - train_y) * train_z)\n",
    "\n",
    "    # 更新参数\n",
    "    theta0 = tmp_theta0\n",
    "    theta1 = tmp_theta1\n",
    "\n",
    "    # 计算与上一次误差的差值\n",
    "    current_error = E(train_z, train_y)\n",
    "    diff = error - current_error\n",
    "    error = current_error\n",
    "\n",
    "    # 输出日志\n",
    "    count += 1\n",
    "    log = '第{}次: theta0 = {:.3f}, theta1 = {:.3f}, 差值 = {:.4f}'\n",
    "    print(log.format(count, theta0, theta1, diff))"
   ]
  },
  {
   "cell_type": "markdown",
   "metadata": {},
   "source": [
    "### 示例代码5-2-6"
   ]
  },
  {
   "cell_type": "code",
   "execution_count": 6,
   "metadata": {},
   "outputs": [
    {
     "data": {
      "image/png": "[encoded data removed]",
      "text/plain": [
       "<Figure size 432x288 with 1 Axes>"
      ]
     },
     "metadata": {
      "needs_background": "light"
     },
     "output_type": "display_data"
    }
   ],
   "source": [
    "# 绘图确认\n",
    "x = np.linspace(-3, 3, 100)\n",
    "plt.plot(train_z, train_y, 'o')\n",
    "plt.plot(x, f(x))\n",
    "plt.show()"
   ]
  },
  {
   "cell_type": "markdown",
   "metadata": {},
   "source": [
    "### 示例代码5-2-7 验证数据"
   ]
  },
  {
   "cell_type": "code",
   "execution_count": 7,
   "metadata": {},
   "outputs": [
    {
     "data": {
      "text/plain": [
       "370.96734094547423"
      ]
     },
     "execution_count": 7,
     "metadata": {},
     "output_type": "execute_result"
    }
   ],
   "source": [
    "f(standardize(100))"
   ]
  },
  {
   "cell_type": "code",
   "execution_count": 8,
   "metadata": {},
   "outputs": [
    {
     "data": {
      "text/plain": [
       "510.46964366017573"
      ]
     },
     "execution_count": 8,
     "metadata": {},
     "output_type": "execute_result"
    }
   ],
   "source": [
    "f(standardize(200))"
   ]
  },
  {
   "cell_type": "code",
   "execution_count": 9,
   "metadata": {},
   "outputs": [
    {
     "data": {
      "text/plain": [
       "649.9719463748772"
      ]
     },
     "execution_count": 9,
     "metadata": {},
     "output_type": "execute_result"
    }
   ],
   "source": [
    "f(standardize(300))"
   ]
  },
  {
   "cell_type": "markdown",
   "metadata": {},
   "source": [
    "### 示例代码5-2-8"
   ]
  },
  {
   "cell_type": "code",
   "execution_count": 10,
   "metadata": {},
   "outputs": [],
   "source": [
    "# 初始化参数\n",
    "theta = np.random.rand(3)\n",
    "\n",
    "# 创建学习数据的矩阵\n",
    "def to_matrix(x):\n",
    "    return np.vstack([np.ones(x.shape[0]), x, x ** 2]).T\n",
    "\n",
    "X = to_matrix(train_z)\n",
    "\n",
    "# 预测函数\n",
    "def f(x):\n",
    "    return np.dot(x, theta)"
   ]
  },
  {
   "cell_type": "markdown",
   "metadata": {},
   "source": [
    "### 示例代码5-2-9"
   ]
  },
  {
   "cell_type": "code",
   "execution_count": 11,
   "metadata": {},
   "outputs": [],
   "source": [
    "# 误差的差值\n",
    "diff = 1\n",
    "\n",
    "# 重复学习\n",
    "error = E(X, train_y)\n",
    "while diff > 1e-2:\n",
    "    # 更新参数\n",
    "    theta = theta - ETA * np.dot(f(X) - train_y, X)\n",
    "    # 计算与上一次误差的差值\n",
    "    current_error = E(X, train_y)\n",
    "    diff = error - current_error\n",
    "    error = current_error"
   ]
  },
  {
   "cell_type": "markdown",
   "metadata": {},
   "source": [
    "### 示例代码5-2-10"
   ]
  },
  {
   "cell_type": "code",
   "execution_count": 12,
   "metadata": {},
   "outputs": [
    {
     "data": {
      "image/png": "[encoded data removed]",
      "text/plain": [
       "<Figure size 432x288 with 1 Axes>"
      ]
     },
     "metadata": {
      "needs_background": "light"
     },
     "output_type": "display_data"
    }
   ],
   "source": [
    "x = np.linspace(-3, 3, 100)\n",
    "\n",
    "plt.plot(train_z, train_y, 'o')\n",
    "plt.plot(x, f(to_matrix(x)))\n",
    "plt.show()"
   ]
  },
  {
   "cell_type": "markdown",
   "metadata": {},
   "source": [
    "### 示例代码5-2-11"
   ]
  },
  {
   "cell_type": "code",
   "execution_count": 13,
   "metadata": {},
   "outputs": [
    {
     "data": {
      "image/png": "[encoded data removed]",
      "text/plain": [
       "<Figure size 432x288 with 1 Axes>"
      ]
     },
     "metadata": {
      "needs_background": "light"
     },
     "output_type": "display_data"
    }
   ],
   "source": [
    "# 均方误差\n",
    "def MSE(x, y):\n",
    "    return (1 / x.shape[0]) * np.sum((y - f(x)) ** 2)\n",
    "\n",
    "# 用随机值初始化参数\n",
    "theta = np.random.rand(3)\n",
    "\n",
    "# 均方误差的历史记录\n",
    "errors = []\n",
    "\n",
    "# 誤差の差分\n",
    "diff = 1\n",
    "\n",
    "# 重复学习\n",
    "errors.append(MSE(X, train_y))\n",
    "while diff > 1e-2:\n",
    "    theta = theta - ETA * np.dot(f(X) - train_y, X)\n",
    "    errors.append(MSE(X, train_y))\n",
    "    diff = errors[-2] - errors[-1]\n",
    "\n",
    "# 绘制误差变化图\n",
    "x = np.arange(len(errors))\n",
    "\n",
    "plt.plot(x, errors)\n",
    "plt.show()"
   ]
  },
  {
   "cell_type": "markdown",
   "metadata": {},
   "source": [
    "### 示例代码5-2-12"
   ]
  },
  {
   "cell_type": "code",
   "execution_count": 14,
   "metadata": {},
   "outputs": [],
   "source": [
    "# 用随机数对参数初始化\n",
    "theta = np.random.rand(3)\n",
    "\n",
    "# 均方误差的历史记录\n",
    "errors = []\n",
    "\n",
    "# 误差的差值\n",
    "diff = 1\n",
    "\n",
    "# 重复学习\n",
    "errors.append(MSE(X, train_y))\n",
    "while diff > 1e-2:\n",
    "    # 为了调整学习数据的顺序，准备随机的序列\n",
    "    p = np.random.permutation(X.shape[0])\n",
    "    # 随机取出学习数据，使用随机梯度下降法更新参数\n",
    "    for x, y in zip(X[p,:], train_y[p]):\n",
    "        theta = theta - ETA * (f(x) - y) * x\n",
    "    # 计算与前一次的误差的差值\n",
    "    errors.append(MSE(X, train_y))\n",
    "    diff = errors[-2] - errors[-1]"
   ]
  },
  {
   "cell_type": "markdown",
   "metadata": {},
   "source": [
    "### 示例代码5-2-13"
   ]
  },
  {
   "cell_type": "code",
   "execution_count": 15,
   "metadata": {},
   "outputs": [
    {
     "data": {
      "image/png": "[encoded data removed]",
      "text/plain": [
       "<Figure size 432x288 with 1 Axes>"
      ]
     },
     "metadata": {
      "needs_background": "light"
     },
     "output_type": "display_data"
    }
   ],
   "source": [
    "x = np.linspace(-3, 3, 100)\n",
    "\n",
    "plt.plot(train_z, train_y, 'o')\n",
    "plt.plot(x, f(to_matrix(x)))\n",
    "plt.show()"
   ]
  },
  {
   "cell_type": "code",
   "execution_count": null,
   "metadata": {},
   "outputs": [],
   "source": []
  }
 ],
 "metadata": {
  "kernelspec": {
   "display_name": "Python 3",
   "language": "python",
   "name": "python3"
  },
  "language_info": {
   "codemirror_mode": {
    "name": "ipython",
    "version": 3
   },
   "file_extension": ".py",
   "mimetype": "text/x-python",
   "name": "python",
   "nbconvert_exporter": "python",
   "pygments_lexer": "ipython3",
   "version": "3.7.3"
  }
 },
 "nbformat": 4,
 "nbformat_minor": 2
}
