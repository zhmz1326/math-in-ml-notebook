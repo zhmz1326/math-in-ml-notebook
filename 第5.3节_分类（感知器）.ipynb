{
 "cells": [
  {
   "cell_type": "markdown",
   "metadata": {},
   "source": [
    "### 示例代码5-3-1"
   ]
  },
  {
   "cell_type": "code",
   "execution_count": 1,
   "metadata": {},
   "outputs": [
    {
     "data": {
      "text/plain": [
       "<Figure size 640x480 with 1 Axes>"
      ]
     },
     "metadata": {},
     "output_type": "display_data"
    }
   ],
   "source": [
    "import numpy as np\n",
    "import matplotlib.pyplot as plt\n",
    "\n",
    "# 读入学习数据\n",
    "train = np.loadtxt('images1.csv', delimiter=',', skiprows=1)\n",
    "train_x = train[:,0:2]\n",
    "train_y = train[:,2]\n",
    "\n",
    "# 绘图\n",
    "plt.plot(train_x[train_y == 1, 0], train_x[train_y == 1, 1], 'o')\n",
    "plt.plot(train_x[train_y == -1, 0], train_x[train_y == -1, 1], 'x')\n",
    "plt.axis('scaled')\n",
    "plt.show()"
   ]
  },
  {
   "cell_type": "markdown",
   "metadata": {},
   "source": [
    "### 示例代码5-3-2"
   ]
  },
  {
   "cell_type": "code",
   "execution_count": 2,
   "metadata": {},
   "outputs": [],
   "source": [
    "# 权重的初始化\n",
    "w = np.random.rand(2)\n",
    "\n",
    "# 判别函数\n",
    "def f(x):\n",
    "    if np.dot(w, x) >= 0:\n",
    "        return 1\n",
    "    else:\n",
    "        return -1"
   ]
  },
  {
   "cell_type": "markdown",
   "metadata": {},
   "source": [
    "### 示例代码5-3-3"
   ]
  },
  {
   "cell_type": "code",
   "execution_count": 3,
   "metadata": {},
   "outputs": [
    {
     "name": "stdout",
     "output_type": "stream",
     "text": [
      "第1次: w = [-152.88237796 -431.07310196]\n",
      "第2次: w = [321.11762204 -47.07310196]\n",
      "第3次: w = [  88.11762204 -477.07310196]\n",
      "第4次: w = [ 484.11762204 -156.07310196]\n",
      "第5次: w = [  85.11762204 -589.07310196]\n",
      "第6次: w = [ 488.11762204 -289.07310196]\n",
      "第7次: w = [ 109.11762204 -705.07310196]\n",
      "第8次: w = [ 372.11762204 -593.07310196]\n",
      "第9次: w = [ 846.11762204 -209.07310196]\n",
      "第10次: w = [ 613.11762204 -639.07310196]\n"
     ]
    }
   ],
   "source": [
    "# 重复次数\n",
    "epoch = 10\n",
    "\n",
    "# 更新次数\n",
    "count = 0\n",
    "\n",
    "# 学习权重\n",
    "for _ in range(epoch):\n",
    "    for x, y in zip(train_x, train_y):\n",
    "        if f(x) != y:\n",
    "            w = w + y * x\n",
    "\n",
    "            # 输出日志\n",
    "            count += 1\n",
    "            print('第{}次: w = {}'.format(count, w))"
   ]
  },
  {
   "cell_type": "markdown",
   "metadata": {},
   "source": [
    "### 示例代码5-3-4"
   ]
  },
  {
   "cell_type": "code",
   "execution_count": 4,
   "metadata": {},
   "outputs": [
    {
     "data": {
      "image/png": "[encoded data removed]",
      "text/plain": [
       "<Figure size 432x288 with 1 Axes>"
      ]
     },
     "metadata": {
      "needs_background": "light"
     },
     "output_type": "display_data"
    }
   ],
   "source": [
    "# 绘图确认\n",
    "x1 = np.arange(0, 500)\n",
    "plt.plot(train_x[train_y ==  1, 0], train_x[train_y ==  1, 1], 'o')\n",
    "plt.plot(train_x[train_y == -1, 0], train_x[train_y == -1, 1], 'x')\n",
    "plt.plot(x1, -w[0] / w[1] * x1, linestyle='dashed')\n",
    "plt.show()\n"
   ]
  },
  {
   "cell_type": "markdown",
   "metadata": {},
   "source": [
    "### 示例代码5-3-5 验证"
   ]
  },
  {
   "cell_type": "code",
   "execution_count": 5,
   "metadata": {},
   "outputs": [
    {
     "data": {
      "text/plain": [
       "1"
      ]
     },
     "execution_count": 5,
     "metadata": {},
     "output_type": "execute_result"
    }
   ],
   "source": [
    "# 200×100的横向图片\n",
    "f([200, 100])"
   ]
  },
  {
   "cell_type": "code",
   "execution_count": 6,
   "metadata": {},
   "outputs": [
    {
     "data": {
      "text/plain": [
       "-1"
      ]
     },
     "execution_count": 6,
     "metadata": {},
     "output_type": "execute_result"
    }
   ],
   "source": [
    "# 100×200的纵向图片\n",
    "f([100, 200])"
   ]
  },
  {
   "cell_type": "code",
   "execution_count": null,
   "metadata": {},
   "outputs": [],
   "source": []
  }
 ],
 "metadata": {
  "kernelspec": {
   "display_name": "Python 3",
   "language": "python",
   "name": "python3"
  },
  "language_info": {
   "codemirror_mode": {
    "name": "ipython",
    "version": 3
   },
   "file_extension": ".py",
   "mimetype": "text/x-python",
   "name": "python",
   "nbconvert_exporter": "python",
   "pygments_lexer": "ipython3",
   "version": "3.7.3"
  }
 },
 "nbformat": 4,
 "nbformat_minor": 2
}
